{
  "nbformat": 4,
  "nbformat_minor": 0,
  "metadata": {
    "colab": {
      "provenance": []
    },
    "kernelspec": {
      "name": "python3",
      "display_name": "Python 3"
    },
    "language_info": {
      "name": "python"
    }
  },
  "cells": [
    {
      "cell_type": "code",
      "execution_count": 4,
      "metadata": {
        "id": "GoahEd5j7ne8"
      },
      "outputs": [],
      "source": [
        "#Write a code to reverse a string\n",
        "\n",
        "#Write a code to reverse a string\n",
        "\n",
        "\n",
        "a = \"hello world\"\n",
        "a = a[::-1]\n"
      ]
    },
    {
      "cell_type": "code",
      "source": [
        "a"
      ],
      "metadata": {
        "colab": {
          "base_uri": "https://localhost:8080/",
          "height": 36
        },
        "id": "T7RO2VBuPjmR",
        "outputId": "3631b7cd-5064-4403-9b67-64d69d135e7a"
      },
      "execution_count": 5,
      "outputs": [
        {
          "output_type": "execute_result",
          "data": {
            "text/plain": [
              "'dlrow olleh'"
            ],
            "application/vnd.google.colaboratory.intrinsic+json": {
              "type": "string"
            }
          },
          "metadata": {},
          "execution_count": 5
        }
      ]
    },
    {
      "cell_type": "code",
      "source": [
        "#Write a code to count the number of vowels in a string\n",
        "\n",
        "a = \"hello world\"\n",
        "vowels = \"aeiou\"\n",
        "count = 0\n",
        "for i in a:\n",
        "    if i in vowels:\n",
        "        count += 1\n",
        "print(count)"
      ],
      "metadata": {
        "colab": {
          "base_uri": "https://localhost:8080/"
        },
        "id": "rX3QjrXRP2X7",
        "outputId": "6352cf41-9b4f-40da-a09c-94337a78e211"
      },
      "execution_count": 6,
      "outputs": [
        {
          "output_type": "stream",
          "name": "stdout",
          "text": [
            "3\n"
          ]
        }
      ]
    },
    {
      "cell_type": "code",
      "source": [
        " #Write a code to check if a given string is a palindrome or not\n",
        "\n",
        "a = \"madam\"\n",
        "if a == a[::-1]:\n",
        "    print(\"palindrome\")\n",
        "else:\n",
        "    print(\"not palindrome\")\n",
        "\n",
        "\n"
      ],
      "metadata": {
        "colab": {
          "base_uri": "https://localhost:8080/"
        },
        "id": "5riLFTquQIvg",
        "outputId": "240b6b84-b7af-472e-fea7-3adb8808edd2"
      },
      "execution_count": 7,
      "outputs": [
        {
          "output_type": "stream",
          "name": "stdout",
          "text": [
            "palindrome\n"
          ]
        }
      ]
    },
    {
      "cell_type": "code",
      "source": [
        " #Write a code to check if two given strings are anagrams of each other\n",
        "\n",
        "a = \"listen\"\n",
        "b = \"silent\"\n",
        "if sorted(a) == sorted(b):\n",
        "    print(\"anagrams\")\n",
        "else:\n",
        "    print(\"not anagrams\")"
      ],
      "metadata": {
        "colab": {
          "base_uri": "https://localhost:8080/"
        },
        "id": "DfodKhOAQ-kw",
        "outputId": "8913a057-e58f-492b-dff7-d97f7dc584b8"
      },
      "execution_count": 8,
      "outputs": [
        {
          "output_type": "stream",
          "name": "stdout",
          "text": [
            "anagrams\n"
          ]
        }
      ]
    },
    {
      "cell_type": "code",
      "source": [
        "# Write a code to find all occurrences of a given substring within another string\n",
        "\n",
        "\n",
        "\n",
        "a = \"hello world\"\n",
        "b = \"l\"\n",
        "count = 0\n",
        "for i in range(len(a)):\n",
        "    if a[i:i+len(b)] == b:\n",
        "        count += 1\n",
        "print(count)"
      ],
      "metadata": {
        "colab": {
          "base_uri": "https://localhost:8080/"
        },
        "id": "7hy6yVTVRNlj",
        "outputId": "f79e4f71-3402-46f5-e847-f2433947a7fc"
      },
      "execution_count": 10,
      "outputs": [
        {
          "output_type": "stream",
          "name": "stdout",
          "text": [
            "3\n"
          ]
        }
      ]
    },
    {
      "cell_type": "code",
      "source": [
        "#Write a code to perform basic string compression using the counts of repeated characters\n",
        "\n",
        "\n",
        "\n",
        "\n",
        "a = \"aabcccccaaa\"\n",
        "count = 1\n",
        "result = \"\"\n",
        "for i in range(len(a)-1):\n",
        "    if a[i] == a[i+1]:\n",
        "        count += 1\n",
        "    else:\n",
        "        result += a[i] + str(count)\n",
        "        count = 1\n",
        "result += a[-1] + str(count)\n",
        "print(result)\n",
        "\n",
        "\n",
        "\n"
      ],
      "metadata": {
        "colab": {
          "base_uri": "https://localhost:8080/"
        },
        "id": "knIE7cpyR1nr",
        "outputId": "e2ad7d40-b3eb-416b-8915-c621932d6f1e"
      },
      "execution_count": 11,
      "outputs": [
        {
          "output_type": "stream",
          "name": "stdout",
          "text": [
            "a2b1c5a3\n"
          ]
        }
      ]
    },
    {
      "cell_type": "code",
      "source": [
        " #Write a code to determine if a string has all unique characters\n",
        "\n",
        "\n",
        "\n",
        "\n",
        "def unique_characters(string):\n",
        "    char_set = set()\n",
        "    for char in string:\n",
        "        if char in char_set:\n",
        "            return False\n",
        "        char_set.add(char)\n",
        "    return True\n",
        "\n",
        "unique_characters(\"hello\")"
      ],
      "metadata": {
        "colab": {
          "base_uri": "https://localhost:8080/"
        },
        "id": "5LENrz5iVVON",
        "outputId": "f2f284b5-0b52-4847-ae7b-5a474bf2e85f"
      },
      "execution_count": 13,
      "outputs": [
        {
          "output_type": "execute_result",
          "data": {
            "text/plain": [
              "False"
            ]
          },
          "metadata": {},
          "execution_count": 13
        }
      ]
    },
    {
      "cell_type": "code",
      "source": [
        "# Write a code to convert a given string to uppercase or lowercase\n",
        "\n",
        "a = \"hello world\"\n",
        "a.upper()\n"
      ],
      "metadata": {
        "colab": {
          "base_uri": "https://localhost:8080/",
          "height": 36
        },
        "id": "tCS4Ytq1VlQM",
        "outputId": "61774966-1e1d-47e6-82cc-dd08c39d2098"
      },
      "execution_count": 15,
      "outputs": [
        {
          "output_type": "execute_result",
          "data": {
            "text/plain": [
              "'HELLO WORLD'"
            ],
            "application/vnd.google.colaboratory.intrinsic+json": {
              "type": "string"
            }
          },
          "metadata": {},
          "execution_count": 15
        }
      ]
    },
    {
      "cell_type": "code",
      "source": [
        "#Write a code to count the number of words in a string\n",
        "\n",
        "\n",
        "a = \"hello world\"\n",
        "len"
      ],
      "metadata": {
        "colab": {
          "base_uri": "https://localhost:8080/"
        },
        "id": "l_NCu1hxV6rv",
        "outputId": "badb5d2c-6b65-422c-931f-9e39034dbd26"
      },
      "execution_count": 17,
      "outputs": [
        {
          "output_type": "execute_result",
          "data": {
            "text/plain": [
              "11"
            ]
          },
          "metadata": {},
          "execution_count": 17
        }
      ]
    },
    {
      "cell_type": "code",
      "source": [
        "#Write a code to concatenate two strings without using the + operator\n",
        "\n",
        "\n",
        "a = \"hello\"\n",
        "b = \"world\"\n",
        "print(\"\".join([a,b]))"
      ],
      "metadata": {
        "colab": {
          "base_uri": "https://localhost:8080/"
        },
        "id": "YRfsMRyRWg3P",
        "outputId": "10d04ae8-e56d-473c-d550-ef7a9c6fd69d"
      },
      "execution_count": 22,
      "outputs": [
        {
          "output_type": "stream",
          "name": "stdout",
          "text": [
            "helloworld\n"
          ]
        }
      ]
    },
    {
      "cell_type": "code",
      "source": [
        " #Write a code to remove all occurrences of a specific element from a list\n",
        "\n",
        "\n",
        " l = [1,2,3,4,5,6,7,8,9,10]\n",
        " l.remove(5)"
      ],
      "metadata": {
        "id": "VWDCCqiMXoXK"
      },
      "execution_count": 23,
      "outputs": []
    },
    {
      "cell_type": "code",
      "source": [
        "l"
      ],
      "metadata": {
        "colab": {
          "base_uri": "https://localhost:8080/"
        },
        "id": "PjtBmRCcZFL9",
        "outputId": "1b973b13-8d27-4503-9807-866068e0084b"
      },
      "execution_count": 24,
      "outputs": [
        {
          "output_type": "execute_result",
          "data": {
            "text/plain": [
              "[1, 2, 3, 4, 6, 7, 8, 9, 10]"
            ]
          },
          "metadata": {},
          "execution_count": 24
        }
      ]
    },
    {
      "cell_type": "code",
      "source": [
        "#Implement a code to find the second largest number in a given list of integers\n",
        "\n",
        "\n",
        "l = [1,2,3,4,5]\n",
        "l.sort()\n",
        "print(l[-2])"
      ],
      "metadata": {
        "colab": {
          "base_uri": "https://localhost:8080/"
        },
        "id": "JRr-YVsmhZ6s",
        "outputId": "9f767613-61f9-4ac2-b363-8f8d44fc60ad"
      },
      "execution_count": 47,
      "outputs": [
        {
          "output_type": "stream",
          "name": "stdout",
          "text": [
            "4\n"
          ]
        }
      ]
    },
    {
      "cell_type": "code",
      "source": [
        "#Create a code to count the occurrences of each element in a list and return a dictionary with elements as keys and their count as values\n",
        "def count_elements(lst):\n",
        "    count_dict = {}\n",
        "    for element in lst:\n",
        "        if element in count_dict:\n",
        "            count_dict[element] += 1\n",
        "        else:\n",
        "            count_dict[element] = 1\n",
        "    return count_dict\n",
        "count_elements([1,2,3,4,5,6,7,8,9,10])"
      ],
      "metadata": {
        "colab": {
          "base_uri": "https://localhost:8080/"
        },
        "id": "2GA1QsEBZYjF",
        "outputId": "48c923ba-5d3b-4d3f-fb28-8db2b4251d48"
      },
      "execution_count": 50,
      "outputs": [
        {
          "output_type": "execute_result",
          "data": {
            "text/plain": [
              "{1: 1, 2: 1, 3: 1, 4: 1, 5: 1, 6: 1, 7: 1, 8: 1, 9: 1, 10: 1}"
            ]
          },
          "metadata": {},
          "execution_count": 50
        }
      ]
    },
    {
      "cell_type": "code",
      "source": [
        "# Write a code to reverse a list in-place without using any built-in reverse functions\n",
        "\n",
        "\n",
        "l = [1,2,3,4,5]\n",
        "l.reverse()"
      ],
      "metadata": {
        "id": "IdJGmKOaaKmx"
      },
      "execution_count": 31,
      "outputs": []
    },
    {
      "cell_type": "code",
      "source": [
        "l"
      ],
      "metadata": {
        "colab": {
          "base_uri": "https://localhost:8080/"
        },
        "id": "SyVMQYChaXmN",
        "outputId": "0588e49c-2169-4047-ce1b-a0fae4657098"
      },
      "execution_count": 32,
      "outputs": [
        {
          "output_type": "execute_result",
          "data": {
            "text/plain": [
              "[5, 4, 3, 2, 1]"
            ]
          },
          "metadata": {},
          "execution_count": 32
        }
      ]
    },
    {
      "cell_type": "code",
      "source": [
        "# Implement a code to find and remove duplicates from a list while preserving the original order of elements\n",
        "\n",
        "\n",
        "l = [1,1,2,2,3,4,5,6,3,4,5,6,7,8,9,10]\n",
        "unique_list = []\n",
        "for i in l:\n",
        "    if i not in unique_list:\n",
        "        unique_list.append(i)\n",
        "print(unique_list)"
      ],
      "metadata": {
        "colab": {
          "base_uri": "https://localhost:8080/"
        },
        "id": "penUzujSakcY",
        "outputId": "9c40c7b3-fcd8-4cc6-df20-2e352b922dbf"
      },
      "execution_count": 35,
      "outputs": [
        {
          "output_type": "stream",
          "name": "stdout",
          "text": [
            "[1, 2, 3, 4, 5, 6, 7, 8, 9, 10]\n"
          ]
        }
      ]
    },
    {
      "cell_type": "code",
      "source": [
        "#Create a code to check if a given list is sorted (either in ascending or descending order) or not\n",
        "\n",
        "\n",
        "\n",
        "l = [1,2,3,4,5]\n",
        "if l == sorted(l) or l == sorted(l, reverse=True):\n",
        "    print(\"sorted\")\n",
        "else:\n",
        "    print(\"not sorted\")"
      ],
      "metadata": {
        "colab": {
          "base_uri": "https://localhost:8080/"
        },
        "id": "HjwD95anakld",
        "outputId": "76fdea5a-a2b3-4bb6-dac6-54313d5d7760"
      },
      "execution_count": 36,
      "outputs": [
        {
          "output_type": "stream",
          "name": "stdout",
          "text": [
            "sorted\n"
          ]
        }
      ]
    },
    {
      "cell_type": "code",
      "source": [
        "#Write a code to merge two sorted lists into a single sorted list\n",
        "\n",
        "l1 = [1,2,3,4,5]\n",
        "l2 = [6,7,8,9,10]\n",
        "l1.extend(l2)\n",
        "l1.sort()"
      ],
      "metadata": {
        "id": "m1PJ4vMfakub"
      },
      "execution_count": 37,
      "outputs": []
    },
    {
      "cell_type": "code",
      "source": [
        "l1"
      ],
      "metadata": {
        "colab": {
          "base_uri": "https://localhost:8080/"
        },
        "id": "VKA1Lfg_cEWN",
        "outputId": "045a20ab-9f64-414b-8136-24045a738340"
      },
      "execution_count": 38,
      "outputs": [
        {
          "output_type": "execute_result",
          "data": {
            "text/plain": [
              "[1, 2, 3, 4, 5, 6, 7, 8, 9, 10]"
            ]
          },
          "metadata": {},
          "execution_count": 38
        }
      ]
    },
    {
      "cell_type": "code",
      "source": [
        "# Implement a code to find the intersection of two given lists\n",
        "\n",
        "\n",
        "l1 = [1,2,3,4,5]\n",
        "l2 = [4,5,6,7,8]\n",
        "set(l1).intersection(set(l2))"
      ],
      "metadata": {
        "colab": {
          "base_uri": "https://localhost:8080/"
        },
        "id": "blJ8VTfHak28",
        "outputId": "55c427ea-093b-47bf-f441-06e4ad656e62"
      },
      "execution_count": 39,
      "outputs": [
        {
          "output_type": "execute_result",
          "data": {
            "text/plain": [
              "{4, 5}"
            ]
          },
          "metadata": {},
          "execution_count": 39
        }
      ]
    },
    {
      "cell_type": "code",
      "source": [
        "#Create a code to find the union of two lists without duplicates\n",
        "\n",
        "\n",
        "l1 = [1,2,3,4,5]\n",
        "l2 = [4,5,6,7,8]\n",
        "set(l1).union(set(l2))"
      ],
      "metadata": {
        "colab": {
          "base_uri": "https://localhost:8080/"
        },
        "id": "N21ueCYSaoED",
        "outputId": "83eddf61-493e-4192-df68-666796aff1ee"
      },
      "execution_count": 40,
      "outputs": [
        {
          "output_type": "execute_result",
          "data": {
            "text/plain": [
              "{1, 2, 3, 4, 5, 6, 7, 8}"
            ]
          },
          "metadata": {},
          "execution_count": 40
        }
      ]
    },
    {
      "cell_type": "code",
      "source": [
        "# Write a code to shuffle a given list randomly without using any built-in shuffle functions\n",
        "\n",
        "\n",
        "l = [1,2,3,4,5]\n",
        "random.shuffle(l)"
      ],
      "metadata": {
        "id": "V7F9SU9saoNX"
      },
      "execution_count": 41,
      "outputs": []
    },
    {
      "cell_type": "code",
      "source": [
        "l"
      ],
      "metadata": {
        "colab": {
          "base_uri": "https://localhost:8080/"
        },
        "id": "764zZe0Vc8iK",
        "outputId": "12e75601-13cd-46c6-a20b-be2cbcf9ea98"
      },
      "execution_count": 42,
      "outputs": [
        {
          "output_type": "execute_result",
          "data": {
            "text/plain": [
              "[2, 1, 5, 3, 4]"
            ]
          },
          "metadata": {},
          "execution_count": 42
        }
      ]
    },
    {
      "cell_type": "code",
      "source": [
        "#Write a code that takes two tuples as input and returns a new tuple containing elements that are common to both input tuples\n",
        "tuple1 = (1, 2, 3, 4, 5)\n",
        "tuple2 = (4, 5, 6, 7, 8)\n",
        "common_elements = tuple(set(tuple1) & set(tuple2))\n",
        "print(common_elements)\n",
        "\n"
      ],
      "metadata": {
        "colab": {
          "base_uri": "https://localhost:8080/"
        },
        "id": "mrDJdYZfdB6Z",
        "outputId": "05bb9eea-19b1-41e2-bcc5-528312ec0121"
      },
      "execution_count": 43,
      "outputs": [
        {
          "output_type": "stream",
          "name": "stdout",
          "text": [
            "(4, 5)\n"
          ]
        }
      ]
    },
    {
      "cell_type": "code",
      "source": [
        "#Create a code that prompts the user to enter two sets of integers separated by commas. Then, print the intersection of these two sets\n",
        "\n",
        "\n",
        "s1 = input()\n",
        "s2 = input()\n",
        "s1 = set(s1.split(\",\"))\n",
        "s2 = set(s2.split(\",\"))\n",
        "print(s1.intersection(s2))"
      ],
      "metadata": {
        "colab": {
          "base_uri": "https://localhost:8080/"
        },
        "id": "D_8rikXgdouv",
        "outputId": "e1b322c4-d7c6-47d5-b13d-785cf44543fe"
      },
      "execution_count": 52,
      "outputs": [
        {
          "output_type": "stream",
          "name": "stdout",
          "text": [
            "1,2,3,4,5\n",
            "3,4,5\n",
            "{'4', '3', '5'}\n"
          ]
        }
      ]
    },
    {
      "cell_type": "code",
      "source": [
        "#Write a code to concatenate two tuples. The function should take two tuples as input and return a new tuple containing elements from both input tuples.\n",
        "\n",
        "t1 = input()\n",
        "t2 = input()\n",
        "t1 = tuple(t1)\n",
        "t2 = tuple(t2)\n",
        "t3 = t1+t2\n",
        "print(t3)"
      ],
      "metadata": {
        "colab": {
          "base_uri": "https://localhost:8080/"
        },
        "id": "QklTtruDesLm",
        "outputId": "82a83207-dc07-4d9a-948a-56d3677cb030"
      },
      "execution_count": 56,
      "outputs": [
        {
          "output_type": "stream",
          "name": "stdout",
          "text": [
            "1 2 3 4\n",
            "5 4 6 7\n",
            "('1', ' ', '2', ' ', '3', ' ', '4', '5', ' ', '4', ' ', '6', ' ', '7')\n"
          ]
        }
      ]
    },
    {
      "cell_type": "code",
      "source": [
        "#Develop a code that prompts the user to input two sets of strings. Then, print the elements that are present in the first set but not in the second set\n",
        "\n",
        "\n",
        "s1 =input()\n",
        "s2 =input()\n",
        "s1 =s1.split()\n",
        "s2 =s2.split()\n",
        "for i in s1:\n",
        "  if i not in s2:\n",
        "    print(i,end=\" \")\n"
      ],
      "metadata": {
        "colab": {
          "base_uri": "https://localhost:8080/"
        },
        "id": "qZIh1Z-ZjLy6",
        "outputId": "6ba20dfb-0621-4127-d25b-eef2a4506f59"
      },
      "execution_count": 57,
      "outputs": [
        {
          "output_type": "stream",
          "name": "stdout",
          "text": [
            "1,2,3,4,\n",
            "4,5,6,7\n",
            "1,2,3,4, "
          ]
        }
      ]
    },
    {
      "cell_type": "code",
      "source": [
        "# Create a code that takes a tuple and two integers as input. The function\n",
        "# should return a new tuple containing elements from the original tuple within\n",
        "# the specified range of indices\n",
        "\n",
        "\n",
        "t1= input(\"Enter a tuple: \")\n",
        "t2= input(\"Enter a tuple: \")\n",
        "t1= tuple(t1)\n",
        "t2= tuple(t2)\n",
        "print(t1)\n",
        "print(t2)\n",
        "\n"
      ],
      "metadata": {
        "colab": {
          "base_uri": "https://localhost:8080/"
        },
        "id": "OXYmhRX_khut",
        "outputId": "30b13f57-8bde-4152-8bac-cadaf0fd3da2"
      },
      "execution_count": 55,
      "outputs": [
        {
          "output_type": "stream",
          "name": "stdout",
          "text": [
            "Enter a tuple: 1,2,3,4\n",
            "Enter a tuple: 4,5,6,7\n",
            "('1', ',', '2', ',', '3', ',', '4')\n",
            "('4', ',', '5', ',', '6', ',', '7')\n"
          ]
        }
      ]
    },
    {
      "cell_type": "code",
      "source": [
        "#Write a code that prompts the user to input two sets of characters. Then, print the union of these two sets\n",
        "\n",
        "\n",
        "s1 = input()\n",
        "S2 = input()\n",
        "s1 = set(s1)\n",
        "S2 = set(S2)\n",
        "print(s1.union(S2))"
      ],
      "metadata": {
        "colab": {
          "base_uri": "https://localhost:8080/"
        },
        "id": "ea0gzu-cl68n",
        "outputId": "578f9884-e778-4ac8-b1ff-7fbfe7f2c811"
      },
      "execution_count": 58,
      "outputs": [
        {
          "output_type": "stream",
          "name": "stdout",
          "text": [
            "1,2,3,4\n",
            "3,4,5,6,7\n",
            "{',', '5', '7', '2', '6', '1', '3', '4'}\n"
          ]
        }
      ]
    },
    {
      "cell_type": "code",
      "source": [],
      "metadata": {
        "id": "caV7eXQHuVky"
      },
      "execution_count": 77,
      "outputs": []
    },
    {
      "cell_type": "code",
      "source": [
        "#Develop a code that takes a tuple of integers as input. The function should return the maximum and minimum values from the tuple using tuple unpacking\n",
        "\n",
        "t1 = input(\"Enter the first tuple of integers separated by spaces: \")\n",
        "t2 = input(\"Enter the second tuple of integers separated by spaces: \")\n",
        "\n",
        "t1 = tuple(map(int, [x for x in t1.split(\",\") if x]))\n",
        "t2 = tuple(map(int, [x for x in t2.split(\",\") if x]))\n",
        "\n",
        "print(\"Tuple 1:\", t1)\n",
        "print(\"Tuple 2:\", t2)\n",
        "combined_tuple = t1 + t2\n",
        "\n",
        "print(\"Maximum value:\", max(combined_tuple))\n",
        "print(\"Minimum value:\", min(combined_tuple))"
      ],
      "metadata": {
        "colab": {
          "base_uri": "https://localhost:8080/"
        },
        "id": "eiVVwxnjvohr",
        "outputId": "9a0bda95-a8ee-4b74-89ba-1b3cb754f33d"
      },
      "execution_count": 80,
      "outputs": [
        {
          "output_type": "stream",
          "name": "stdout",
          "text": [
            "Enter the first tuple of integers separated by spaces: 1,2,3,4,5,6,7,8,9\n",
            "Enter the second tuple of integers separated by spaces: 4,5,6,7,8,9,\n",
            "Tuple 1: (1, 2, 3, 4, 5, 6, 7, 8, 9)\n",
            "Tuple 2: (4, 5, 6, 7, 8, 9)\n",
            "Maximum value: 9\n",
            "Minimum value: 1\n"
          ]
        }
      ]
    },
    {
      "cell_type": "code",
      "source": [
        "#Create a code that defines two sets of integers. Then, print the union, intersection, and difference of these two sets\n",
        "\n",
        "\n",
        "\n",
        "\n",
        "s1 = {1,2,3,4,5,}\n",
        "s2 = {4,5,6,7,8}\n",
        "print(s1.union(s2))\n",
        "print(s1.intersection(s2))\n",
        "print(s1.difference(s2))"
      ],
      "metadata": {
        "colab": {
          "base_uri": "https://localhost:8080/"
        },
        "id": "q5ZxAXxTuyI6",
        "outputId": "34d3bf81-425c-47df-81de-d88b6b1ecf1f"
      },
      "execution_count": 81,
      "outputs": [
        {
          "output_type": "stream",
          "name": "stdout",
          "text": [
            "{1, 2, 3, 4, 5, 6, 7, 8}\n",
            "{4, 5}\n",
            "{1, 2, 3}\n"
          ]
        }
      ]
    },
    {
      "cell_type": "code",
      "source": [
        "#Write a code that takes a tuple and an element as input. The function should return the count of occurrences of the given element in the tuple\n",
        "\n",
        "\n",
        "\n",
        "t1 =()\n",
        "n = (int)(input(\"enter the element\"))\n",
        "i=0\n",
        "while(i<n):\n",
        "    e=int(input(\"enter the element\"))\n",
        "    t1=t1+(e,)\n",
        "    i=i+1\n",
        "num=(int)(input(\"enter the element to be searched\"))\n",
        "print(t1.count(num))"
      ],
      "metadata": {
        "colab": {
          "base_uri": "https://localhost:8080/"
        },
        "id": "NhyzLL9ZwGPU",
        "outputId": "b7222697-aa59-45b6-9628-1415bc4841fb"
      },
      "execution_count": 91,
      "outputs": [
        {
          "output_type": "stream",
          "name": "stdout",
          "text": [
            "enter the element3\n",
            "enter the element3\n",
            "enter the element3\n",
            "enter the element3\n",
            "enter the element to be searched3\n",
            "3\n"
          ]
        }
      ]
    },
    {
      "cell_type": "code",
      "source": [
        "# Develop a code that prompts the user to input two sets of strings. Then, print the symmetric difference of these two sets\n",
        "\n",
        "\n",
        "\n",
        "s1 = input()\n",
        "s2 = input()\n",
        "s1 = s1.split()\n",
        "s2 = s2.split()\n",
        "s1 = set(s1)\n",
        "s2 = set(s2)\n",
        "print(s1.symmetric_difference(s2))"
      ],
      "metadata": {
        "colab": {
          "base_uri": "https://localhost:8080/"
        },
        "id": "xsSnZ96bworh",
        "outputId": "22d22c44-dd13-4571-c934-76affa628119"
      },
      "execution_count": 92,
      "outputs": [
        {
          "output_type": "stream",
          "name": "stdout",
          "text": [
            "1,2,3,4,5,6,\n",
            "4,5,6,7,8,9,34\n",
            "{'4,5,6,7,8,9,34', '1,2,3,4,5,6,'}\n"
          ]
        }
      ]
    },
    {
      "cell_type": "code",
      "source": [
        "#Write a code that takes a list of words as input and returns a dictionary where the keys are unique words and the values are the frequencies of those words in the input list\n",
        "def word_frequency(words):\n",
        "    frequency = {}\n",
        "    for word in words:\n",
        "        if word in frequency:\n",
        "            frequency[word] += 1\n",
        "        else:\n",
        "            frequency[word] = 1\n",
        "    return frequency\n",
        "\n",
        "words = input(\"Enter a list of words separated by spaces: \").split()\n",
        "frequency = word_frequency(words)\n",
        "print(frequency)"
      ],
      "metadata": {
        "colab": {
          "base_uri": "https://localhost:8080/"
        },
        "id": "iOyceJsF1gU1",
        "outputId": "a0a05a28-0ce2-4bb7-b71e-26ab10111029"
      },
      "execution_count": 96,
      "outputs": [
        {
          "output_type": "stream",
          "name": "stdout",
          "text": [
            "Enter a list of words separated by spaces: 1,2,3,\n",
            "{'1,2,3,': 1}\n"
          ]
        }
      ]
    },
    {
      "cell_type": "code",
      "source": [
        "#Write a code that takes two dictionaries as input and merges them into a single dictionary. If there are common keys, the values should be added together\n",
        "\n",
        "\n",
        "d1 = input(\"Enter the first dictionary as key:value pairs separated by commas: \")\n",
        "d2 = input(\"Enter the second dictionary as key:value pairs separated by commas: \")\n",
        "\n",
        "\n",
        "def convert_to_dict(input_str):\n",
        "    try:\n",
        "\n",
        "        return dict(item.split(\":\") for item in input_str.split(\",\") if item)\n",
        "    except ValueError:\n",
        "\n",
        "        return {str(item): int(item) for item in input_str.split(\",\") if item}\n",
        "\n",
        "d1 = convert_to_dict(d1)\n",
        "d2 = convert_to_dict(d2)\n",
        "\n",
        "\n",
        "d1 = {k: int(v) for k, v in d1.items()}\n",
        "d2 = {k: int(v) for k, v in d2.items()}\n",
        "\n",
        "d3 = d1.copy()\n",
        "\n",
        "for key, value in d2.items():\n",
        "    if key in d3:\n",
        "        d3[key] += value\n",
        "    else:\n",
        "        d3[key] = value\n",
        "\n",
        "print(d3)"
      ],
      "metadata": {
        "colab": {
          "base_uri": "https://localhost:8080/"
        },
        "id": "CDepi7TQ4vYu",
        "outputId": "88f63810-723e-4584-e162-369a9c7135a4"
      },
      "execution_count": 105,
      "outputs": [
        {
          "output_type": "stream",
          "name": "stdout",
          "text": [
            "Enter the first dictionary as key:value pairs separated by commas: 1,2\n",
            "Enter the second dictionary as key:value pairs separated by commas: 2,3\n",
            "{'1': 1, '2': 4, '3': 3}\n"
          ]
        }
      ]
    },
    {
      "cell_type": "code",
      "source": [
        "#Write a code that takes a dictionary as input and returns a sorted version of it based on the values. You can choose whether to sort in ascending or descending order\n",
        "\n",
        "\n",
        "d1_str = input(\"Enter a dictionary in the format {key1:value1, key2:value2}: \")\n",
        "\n",
        "try:\n",
        "    # Attempt to evaluate the input string as a dictionary literal\n",
        "    d1 = eval(d1_str)\n",
        "\n",
        "    # Check if the evaluated object is a dictionary\n",
        "    if not isinstance(d1, dict):\n",
        "        raise ValueError(\"Input is not a valid dictionary\")\n",
        "\n",
        "except (SyntaxError, NameError, ValueError) as e:\n",
        "    print(f\"Error: Invalid dictionary input. {e}\")\n",
        "    # Handle the error, e.g., exit or prompt for input again\n",
        "    exit()\n",
        "\n",
        "# Ensure d1 is a dictionary before proceeding\n",
        "# If d1 is not a dictionary, attempt to convert it\n",
        "if not isinstance(d1, dict):\n",
        "    try:\n",
        "        d1 = {str(item): int(item) for item in d1_str.split(\",\") if item} # Convert to a dictionary if possible\n",
        "    except (ValueError, TypeError):\n",
        "        print(\"Could not convert input to a dictionary.\")\n",
        "        exit()\n",
        "\n",
        "d2 = dict(sorted(d1.items(), key=lambda x: x[1]))\n",
        "print(d2)"
      ],
      "metadata": {
        "colab": {
          "base_uri": "https://localhost:8080/",
          "height": 255
        },
        "id": "4_SSZpi27TI0",
        "outputId": "996a54d3-cea9-4093-ce4e-a0997ef478f3"
      },
      "execution_count": 1,
      "outputs": [
        {
          "output_type": "stream",
          "name": "stdout",
          "text": [
            "Enter a dictionary in the format {key1:value1, key2:value2}: 2,3,1,4,6,8,,7,5,9\n",
            "Error: Invalid dictionary input. invalid syntax (<string>, line 1)\n"
          ]
        },
        {
          "output_type": "error",
          "ename": "NameError",
          "evalue": "name 'd1' is not defined",
          "traceback": [
            "\u001b[0;31m---------------------------------------------------------------------------\u001b[0m",
            "\u001b[0;31mNameError\u001b[0m                                 Traceback (most recent call last)",
            "\u001b[0;32m<ipython-input-1-a20d28ba385d>\u001b[0m in \u001b[0;36m<cell line: 21>\u001b[0;34m()\u001b[0m\n\u001b[1;32m     19\u001b[0m \u001b[0;31m# Ensure d1 is a dictionary before proceeding\u001b[0m\u001b[0;34m\u001b[0m\u001b[0;34m\u001b[0m\u001b[0m\n\u001b[1;32m     20\u001b[0m \u001b[0;31m# If d1 is not a dictionary, attempt to convert it\u001b[0m\u001b[0;34m\u001b[0m\u001b[0;34m\u001b[0m\u001b[0m\n\u001b[0;32m---> 21\u001b[0;31m \u001b[0;32mif\u001b[0m \u001b[0;32mnot\u001b[0m \u001b[0misinstance\u001b[0m\u001b[0;34m(\u001b[0m\u001b[0md1\u001b[0m\u001b[0;34m,\u001b[0m \u001b[0mdict\u001b[0m\u001b[0;34m)\u001b[0m\u001b[0;34m:\u001b[0m\u001b[0;34m\u001b[0m\u001b[0;34m\u001b[0m\u001b[0m\n\u001b[0m\u001b[1;32m     22\u001b[0m     \u001b[0;32mtry\u001b[0m\u001b[0;34m:\u001b[0m\u001b[0;34m\u001b[0m\u001b[0;34m\u001b[0m\u001b[0m\n\u001b[1;32m     23\u001b[0m         \u001b[0md1\u001b[0m \u001b[0;34m=\u001b[0m \u001b[0;34m{\u001b[0m\u001b[0mstr\u001b[0m\u001b[0;34m(\u001b[0m\u001b[0mitem\u001b[0m\u001b[0;34m)\u001b[0m\u001b[0;34m:\u001b[0m \u001b[0mint\u001b[0m\u001b[0;34m(\u001b[0m\u001b[0mitem\u001b[0m\u001b[0;34m)\u001b[0m \u001b[0;32mfor\u001b[0m \u001b[0mitem\u001b[0m \u001b[0;32min\u001b[0m \u001b[0md1_str\u001b[0m\u001b[0;34m.\u001b[0m\u001b[0msplit\u001b[0m\u001b[0;34m(\u001b[0m\u001b[0;34m\",\"\u001b[0m\u001b[0;34m)\u001b[0m \u001b[0;32mif\u001b[0m \u001b[0mitem\u001b[0m\u001b[0;34m}\u001b[0m \u001b[0;31m# Convert to a dictionary if possible\u001b[0m\u001b[0;34m\u001b[0m\u001b[0;34m\u001b[0m\u001b[0m\n",
            "\u001b[0;31mNameError\u001b[0m: name 'd1' is not defined"
          ]
        }
      ]
    },
    {
      "cell_type": "code",
      "source": [
        "#Write a code that takes a dictionary as input and returns a sorted version of it based on the values. You can choose whether to sort in ascending or descending order\n",
        "\n",
        "d1_str = input(\"Enter a dictionary in the format {key1:value1, key2:value2}: \")\n",
        "\n",
        "d1 = None\n",
        "\n",
        "try:\n",
        "\n",
        "    d1 = eval(d1_str)\n",
        "\n",
        "\n",
        "    if not isinstance(d1, dict):\n",
        "        raise ValueError(\"Input is not a valid dictionary\")\n",
        "\n",
        "except (SyntaxError, NameError, ValueError) as e:\n",
        "    print(f\"Error: Invalid dictionary input. {e}\")\n",
        "\n",
        "if d1 is None or not isinstance(d1, dict):\n",
        "    try:\n",
        "        d1 = {str(item): int(item) for item in d1_str.split(\",\") if item}\n",
        "    except (ValueError, TypeError):\n",
        "        print(\"Could not convert input to a dictionary.\")\n",
        "        exit()\n",
        "\n",
        "d2 = dict(sorted(d1.items(), key=lambda x: x[1]))\n",
        "print(d2)"
      ],
      "metadata": {
        "colab": {
          "base_uri": "https://localhost:8080/"
        },
        "id": "oBt8lkph8j6u",
        "outputId": "c034bfc4-30a5-4d89-90ab-80c78fde0195"
      },
      "execution_count": 1,
      "outputs": [
        {
          "output_type": "stream",
          "name": "stdout",
          "text": [
            "Enter a dictionary in the format {key1:value1, key2:value2}: 2,3,1,4,6,8,,7,5,9\n",
            "Error: Invalid dictionary input. invalid syntax (<string>, line 1)\n",
            "{'1': 1, '2': 2, '3': 3, '4': 4, '5': 5, '6': 6, '7': 7, '8': 8, '9': 9}\n"
          ]
        }
      ]
    },
    {
      "cell_type": "code",
      "source": [
        "# Write a code that inverts a dictionary, swapping keys and values. Ensure that the inverted dictionary\n",
        "#correctly handles cases where multiple keys have the same value by storing the keys as a list in the\n",
        "#inverted dictionary\n",
        "def invert_dict(d):\n",
        "    inverted = {}\n",
        "    for key, value in d.items():\n",
        "        if value in inverted:\n",
        "            inverted[value].append(key)\n",
        "        else:\n",
        "            inverted[value] = [key]\n",
        "    return inverted\n",
        "\n",
        "d = {'a': 1, 'b': 2, 'c': 1, 'd': 3}\n",
        "inverted = invert_dict(d)\n",
        "print(inverted)"
      ],
      "metadata": {
        "colab": {
          "base_uri": "https://localhost:8080/"
        },
        "id": "JBaWUgly84io",
        "outputId": "65a6a6e1-d291-4c6c-bc58-3dfab40442e2"
      },
      "execution_count": 2,
      "outputs": [
        {
          "output_type": "stream",
          "name": "stdout",
          "text": [
            "{1: ['a', 'c'], 2: ['b'], 3: ['d']}\n"
          ]
        }
      ]
    },
    {
      "cell_type": "code",
      "source": [],
      "metadata": {
        "id": "CR3o4DMj9aH_"
      },
      "execution_count": null,
      "outputs": []
    }
  ]
}